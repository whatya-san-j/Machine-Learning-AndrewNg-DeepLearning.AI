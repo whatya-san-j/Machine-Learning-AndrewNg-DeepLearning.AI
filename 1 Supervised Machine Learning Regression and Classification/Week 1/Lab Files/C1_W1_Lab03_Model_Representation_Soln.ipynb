{
  "cells": [
    {
      "cell_type": "markdown",
      "metadata": {
        "id": "view-in-github",
        "colab_type": "text"
      },
      "source": [
        "<a href=\"https://colab.research.google.com/github/whatya-san-j/Machine-Learning-AndrewNg-DeepLearning.AI/blob/main/1%20Supervised%20Machine%20Learning%20Regression%20and%20Classification/Week%201/Lab%20Files/C1_W1_Lab03_Model_Representation_Soln.ipynb\" target=\"_parent\"><img src=\"https://colab.research.google.com/assets/colab-badge.svg\" alt=\"Open In Colab\"/></a>"
      ]
    },
    {
      "cell_type": "markdown",
      "metadata": {
        "id": "jeqBafvio49x"
      },
      "source": [
        "# Optional Lab: Model Representation\n",
        "\n",
        "<figure>\n",
        " <img src=\"https://github.com/whatya-san-j/Machine-Learning-AndrewNg-DeepLearning.AI/blob/main/1%20Supervised%20Machine%20Learning%20Regression%20and%20Classification/Week%201/Lab%20Files/images/C1_W1_L3_S1_Lecture_b.png?raw=1\"   style=\"width:600px;height:200px;\">\n",
        "</figure>"
      ],
      "id": "jeqBafvio49x"
    },
    {
      "cell_type": "markdown",
      "metadata": {
        "id": "Dvy4Jec7o492"
      },
      "source": [
        "## Goals\n",
        "In this lab you will:\n",
        "- Learn to implement the model $f_{w,b}$ for linear regression with one variable"
      ],
      "id": "Dvy4Jec7o492"
    },
    {
      "cell_type": "markdown",
      "metadata": {
        "id": "BsCf2yjbo493"
      },
      "source": [
        "## Notation\n",
        "Here is a summary of some of the notation you will encounter.  \n",
        "\n",
        "|General <img width=70/> <br />  Notation  <img width=70/> | Description<img width=350/>| Python (if applicable) |\n",
        "|: ------------|: ------------------------------------------------------------||\n",
        "| $a$ | scalar, non bold                                                      ||\n",
        "| $\\mathbf{a}$ | vector, bold                                                      ||\n",
        "| **Regression** |         |    |     |\n",
        "|  $\\mathbf{x}$ | Training Example feature values (in this lab - Size (1000 sqft))  | `x_train` |   \n",
        "|  $\\mathbf{y}$  | Training Example  targets (in this lab Price (1000s of dollars)).  | `y_train`\n",
        "|  $x^{(i)}$, $y^{(i)}$ | $i_{th}$Training Example | `x_i`, `y_i`|\n",
        "| m | Number of training examples | `m`|\n",
        "|  $w$  |  parameter: weight,                                 | `w`    |\n",
        "|  $b$           |  parameter: bias                                           | `b`    |     \n",
        "| $f_{w,b}(x^{(i)})$ | The result of the model evaluation at $x^{(i)}$ parameterized by $w,b$: $f_{w,b}(x^{(i)}) = wx^{(i)}+b$  | `f_wb` |\n"
      ],
      "id": "BsCf2yjbo493"
    },
    {
      "cell_type": "markdown",
      "metadata": {
        "id": "DRF7k7U4o494"
      },
      "source": [
        "## Tools\n",
        "In this lab you will make use of:\n",
        "- NumPy, a popular library for scientific computing\n",
        "- Matplotlib, a popular library for plotting data"
      ],
      "id": "DRF7k7U4o494"
    },
    {
      "cell_type": "code",
      "source": [],
      "metadata": {
        "id": "Kf6e_Hq8uVXT"
      },
      "id": "Kf6e_Hq8uVXT",
      "execution_count": null,
      "outputs": []
    },
    {
      "cell_type": "markdown",
      "source": [
        "### For use with Colab:\n",
        "#### 1) download the required files first *before* continuing with notebooks (.ipynb) meant for use with local compute resource (JupyterLab/Jupyter notebook)\n",
        "#### 2) using the underlying OS's _wget()_ is one way to do it.\n",
        "####2a) use _-no-clobber/-nc_ or _-timestamping/-N_ option to prevent downloading if one exists already\n",
        "####3) for content to be downloaded from $GitHub$, use the _raw.githubuser_content.com_ (**not** the HTML version from _github.com_)"
      ],
      "metadata": {
        "id": "lVHPOt6Ez7n6"
      },
      "id": "lVHPOt6Ez7n6"
    },
    {
      "cell_type": "code",
      "source": [
        "!wget -N https://raw.githubusercontent.com/whatya-san-j/Machine-Learning-AndrewNg-DeepLearning.AI/main/1%20Supervised%20Machine%20Learning%20Regression%20and%20Classification/Week%201/Lab%20Files/deeplearning.mplstyle"
      ],
      "metadata": {
        "id": "4tN7fIDVo9aQ"
      },
      "id": "4tN7fIDVo9aQ",
      "execution_count": null,
      "outputs": []
    },
    {
      "cell_type": "markdown",
      "source": [
        "### Original .ipynb file below"
      ],
      "metadata": {
        "id": "tjw-LFI12TpJ"
      },
      "id": "tjw-LFI12TpJ"
    },
    {
      "cell_type": "code",
      "execution_count": null,
      "metadata": {
        "id": "ss5MK1Z_o495"
      },
      "outputs": [],
      "source": [
        "import numpy as np\n",
        "import matplotlib.pyplot as plt\n",
        "plt.style.use('./deeplearning.mplstyle')"
      ],
      "id": "ss5MK1Z_o495"
    },
    {
      "cell_type": "markdown",
      "metadata": {
        "id": "_J0bPLtso496"
      },
      "source": [
        "# Problem Statement\n",
        "<img align=\"left\" src=\"https://github.com/whatya-san-j/Machine-Learning-AndrewNg-DeepLearning.AI/blob/main/1%20Supervised%20Machine%20Learning%20Regression%20and%20Classification/Week%201/Lab%20Files/images/C1_W1_L3_S1_trainingdata.png?raw=1\"    style=\" width:380px; padding: 10px;  \" />\n",
        "\n",
        "As in the lecture, you will use the motivating example of housing price prediction.  \n",
        "This lab will use a simple data set with only two data points - a house with 1000 square feet(sqft) sold for \\\\$300,000 and a house with 2000 square feet sold for \\\\$500,000. These two points will constitute our *data or training set*. In this lab, the units of size are 1000 sqft and the units of price are 1000s of dollars.\n",
        "\n",
        "| Size (1000 sqft)     | Price (1000s of dollars) |\n",
        "| -------------------| ------------------------ |\n",
        "| 1.0               | 300                      |\n",
        "| 2.0               | 500                      |\n",
        "\n",
        "You would like to fit a linear regression model (shown above as the blue straight line) through these two points, so you can then predict price for other houses - say, a house with 1200 sqft.\n"
      ],
      "id": "_J0bPLtso496"
    },
    {
      "cell_type": "markdown",
      "metadata": {
        "id": "1TlAhsaro497"
      },
      "source": [
        "Please run the following code cell to create your `x_train` and `y_train` variables. The data is stored in one-dimensional NumPy arrays."
      ],
      "id": "1TlAhsaro497"
    },
    {
      "cell_type": "code",
      "execution_count": null,
      "metadata": {
        "id": "6XK7Y2OEo497"
      },
      "outputs": [],
      "source": [
        "# x_train is the input variable (size in 1000 square feet)\n",
        "# y_train is the target (price in 1000s of dollars)\n",
        "x_train = np.array([1.0, 2.0])\n",
        "y_train = np.array([300.0, 500.0])\n",
        "print(f\"x_train = {x_train}\")\n",
        "print(f\"y_train = {y_train}\")"
      ],
      "id": "6XK7Y2OEo497"
    },
    {
      "cell_type": "markdown",
      "metadata": {
        "id": "st9gEdDCo498"
      },
      "source": [
        ">**Note**: The course will frequently utilize the python 'f-string' output formatting described [here](https://docs.python.org/3/tutorial/inputoutput.html) when printing. The content between the curly braces is evaluated when producing the output."
      ],
      "id": "st9gEdDCo498"
    },
    {
      "cell_type": "markdown",
      "metadata": {
        "id": "6rmqkb2ho498"
      },
      "source": [
        "### Number of training examples `m`\n",
        "You will use `m` to denote the number of training examples. Numpy arrays have a `.shape` parameter. `x_train.shape` returns a python tuple with an entry for each dimension. `x_train.shape[0]` is the length of the array and number of examples as shown below."
      ],
      "id": "6rmqkb2ho498"
    },
    {
      "cell_type": "code",
      "execution_count": null,
      "metadata": {
        "id": "4jBhBEP4o499"
      },
      "outputs": [],
      "source": [
        "# m is the number of training examples\n",
        "print(f\"x_train.shape: {x_train.shape}\")\n",
        "m = x_train.shape[0]\n",
        "print(f\"Number of training examples is: {m}\")"
      ],
      "id": "4jBhBEP4o499"
    },
    {
      "cell_type": "markdown",
      "metadata": {
        "id": "C0BNbwOoo499"
      },
      "source": [
        "One can also use the Python `len()` function as shown below."
      ],
      "id": "C0BNbwOoo499"
    },
    {
      "cell_type": "code",
      "execution_count": null,
      "metadata": {
        "id": "Sq35Rxszo49-"
      },
      "outputs": [],
      "source": [
        "# m is the number of training examples\n",
        "m = len(x_train)\n",
        "print(f\"Number of training examples is: {m}\")"
      ],
      "id": "Sq35Rxszo49-"
    },
    {
      "cell_type": "markdown",
      "metadata": {
        "id": "XfNPwFMYo49-"
      },
      "source": [
        "### Training example `x_i, y_i`\n",
        "\n",
        "You will use (x$^{(i)}$, y$^{(i)}$) to denote the $i^{th}$ training example. Since Python is zero indexed, (x$^{(0)}$, y$^{(0)}$) is (1.0, 300.0) and (x$^{(1)}$, y$^{(1)}$) is (2.0, 500.0).\n",
        "\n",
        "To access a value in a Numpy array, one indexes the array with the desired offset. For example the syntax to access location zero of `x_train` is `x_train[0]`.\n",
        "Run the next code block below to get the $i^{th}$ training example."
      ],
      "id": "XfNPwFMYo49-"
    },
    {
      "cell_type": "code",
      "execution_count": null,
      "metadata": {
        "id": "74tSegzWo49-"
      },
      "outputs": [],
      "source": [
        "i = 0 # Change this to 1 to see (x^1, y^1)\n",
        "\n",
        "x_i = x_train[i]\n",
        "y_i = y_train[i]\n",
        "print(f\"(x^({i}), y^({i})) = ({x_i}, {y_i})\")"
      ],
      "id": "74tSegzWo49-"
    },
    {
      "cell_type": "markdown",
      "metadata": {
        "id": "6ZS9sDC0o49_"
      },
      "source": [
        "### Plotting the data"
      ],
      "id": "6ZS9sDC0o49_"
    },
    {
      "cell_type": "markdown",
      "metadata": {
        "id": "yCREXGMEo4-A"
      },
      "source": [
        "You can plot these two points using the `scatter()` function in the `matplotlib` library, as shown in the cell below.\n",
        "- The function arguments `marker` and `c` show the points as red crosses (the default is blue dots).\n",
        "\n",
        "You can use other functions in the `matplotlib` library to set the title and labels to display"
      ],
      "id": "yCREXGMEo4-A"
    },
    {
      "cell_type": "code",
      "execution_count": null,
      "metadata": {
        "id": "EbzkoEcvo4-A"
      },
      "outputs": [],
      "source": [
        "# Plot the data points\n",
        "plt.scatter(x_train, y_train, marker='x', c='r')\n",
        "# Set the title\n",
        "plt.title(\"Housing Prices\")\n",
        "# Set the y-axis label\n",
        "plt.ylabel('Price (in 1000s of dollars)')\n",
        "# Set the x-axis label\n",
        "plt.xlabel('Size (1000 sqft)')\n",
        "plt.show()"
      ],
      "id": "EbzkoEcvo4-A"
    },
    {
      "cell_type": "markdown",
      "metadata": {
        "id": "LNbZWUo4o4-A"
      },
      "source": [
        "## Model function\n",
        "\n",
        "<img align=\"left\" src=\"https://github.com/whatya-san-j/Machine-Learning-AndrewNg-DeepLearning.AI/blob/main/1%20Supervised%20Machine%20Learning%20Regression%20and%20Classification/Week%201/Lab%20Files/images/C1_W1_L3_S1_model.png?raw=1\"     style=\" width:380px; padding: 10px; \" > As described in lecture, the model function for linear regression (which is a function that maps from `x` to `y`) is represented as\n",
        "\n",
        "$$ f_{w,b}(x^{(i)}) = wx^{(i)} + b \\tag{1}$$\n",
        "\n",
        "The formula above is how you can represent straight lines - different values of $w$ and $b$ give you different straight lines on the plot. <br/> <br/> <br/> <br/> <br/>\n",
        "\n",
        "Let's try to get a better intuition for this through the code blocks below. Let's start with $w = 100$ and $b = 100$.\n",
        "\n",
        "**Note: You can come back to this cell to adjust the model's w and b parameters**"
      ],
      "id": "LNbZWUo4o4-A"
    },
    {
      "cell_type": "code",
      "execution_count": null,
      "metadata": {
        "id": "MGwL2Nmbo4-A"
      },
      "outputs": [],
      "source": [
        "w = 100\n",
        "b = 100\n",
        "print(f\"w: {w}\")\n",
        "print(f\"b: {b}\")"
      ],
      "id": "MGwL2Nmbo4-A"
    },
    {
      "cell_type": "markdown",
      "metadata": {
        "id": "fQ-tdvO6o4-A"
      },
      "source": [
        "Now, let's compute the value of $f_{w,b}(x^{(i)})$ for your two data points. You can explicitly write this out for each data point as -\n",
        "\n",
        "for $x^{(0)}$, `f_wb = w * x[0] + b`\n",
        "\n",
        "for $x^{(1)}$, `f_wb = w * x[1] + b`\n",
        "\n",
        "For a large number of data points, this can get unwieldy and repetitive. So instead, you can calculate the function output in a `for` loop as shown in the `compute_model_output` function below.\n",
        "> **Note**: The argument description `(ndarray (m,))` describes a Numpy n-dimensional array of shape (m,). `(scalar)` describes an argument without dimensions, just a magnitude.  \n",
        "> **Note**: `np.zero(n)` will return a one-dimensional numpy array with $n$ entries   \n"
      ],
      "id": "fQ-tdvO6o4-A"
    },
    {
      "cell_type": "code",
      "execution_count": null,
      "metadata": {
        "id": "vgxPXHWAo4-B"
      },
      "outputs": [],
      "source": [
        "def compute_model_output(x, w, b):\n",
        "    \"\"\"\n",
        "    Computes the prediction of a linear model\n",
        "    Args:\n",
        "      x (ndarray (m,)): Data, m examples\n",
        "      w,b (scalar)    : model parameters\n",
        "    Returns\n",
        "      y (ndarray (m,)): target values\n",
        "    \"\"\"\n",
        "    m = x.shape[0]\n",
        "    f_wb = np.zeros(m)\n",
        "    for i in range(m):\n",
        "        f_wb[i] = w * x[i] + b\n",
        "\n",
        "    return f_wb"
      ],
      "id": "vgxPXHWAo4-B"
    },
    {
      "cell_type": "markdown",
      "metadata": {
        "id": "cpODMJkGo4-B"
      },
      "source": [
        "Now let's call the `compute_model_output` function and plot the output.."
      ],
      "id": "cpODMJkGo4-B"
    },
    {
      "cell_type": "code",
      "execution_count": null,
      "metadata": {
        "id": "e4JcgF70o4-B"
      },
      "outputs": [],
      "source": [
        "tmp_f_wb = compute_model_output(x_train, w, b,)\n",
        "\n",
        "# Plot our model prediction\n",
        "plt.plot(x_train, tmp_f_wb, c='b',label='Our Prediction')\n",
        "\n",
        "# Plot the data points\n",
        "plt.scatter(x_train, y_train, marker='x', c='r',label='Actual Values')\n",
        "\n",
        "# Set the title\n",
        "plt.title(\"Housing Prices\")\n",
        "# Set the y-axis label\n",
        "plt.ylabel('Price (in 1000s of dollars)')\n",
        "# Set the x-axis label\n",
        "plt.xlabel('Size (1000 sqft)')\n",
        "plt.legend()\n",
        "plt.show()"
      ],
      "id": "e4JcgF70o4-B"
    },
    {
      "cell_type": "markdown",
      "metadata": {
        "id": "49ugT4uQo4-B"
      },
      "source": [
        "As you can see, setting $w = 100$ and $b = 100$ does *not* result in a line that fits our data.\n",
        "\n",
        "### Challenge\n",
        "Try experimenting with different values of $w$ and $b$. What should the values be for a line that fits our data?\n",
        "\n",
        "#### Tip:\n",
        "You can use your mouse to click on the triangle to the left of the green \"Hints\" below to reveal some hints for choosing b and w."
      ],
      "id": "49ugT4uQo4-B"
    },
    {
      "cell_type": "markdown",
      "metadata": {
        "id": "KUddKjHwo4-B"
      },
      "source": [
        "<details>\n",
        "<summary>\n",
        "    <font size='3', color='darkgreen'><b>Hints</b></font>\n",
        "</summary>\n",
        "    <p>\n",
        "    <ul>\n",
        "        <li>Try $w = 200$ and $b = 100$ </li>\n",
        "    </ul>\n",
        "    </p>"
      ],
      "id": "KUddKjHwo4-B"
    },
    {
      "cell_type": "markdown",
      "metadata": {
        "id": "--e_e3-So4-B"
      },
      "source": [
        "### Prediction\n",
        "Now that we have a model, we can use it to make our original prediction. Let's predict the price of a house with 1200 sqft. Since the units of $x$ are in 1000's of sqft, $x$ is 1.2.\n"
      ],
      "id": "--e_e3-So4-B"
    },
    {
      "cell_type": "code",
      "execution_count": null,
      "metadata": {
        "id": "WZc4HH02o4-C"
      },
      "outputs": [],
      "source": [
        "w = 200\n",
        "b = 100\n",
        "x_i = 1.2\n",
        "cost_1200sqft = w * x_i + b\n",
        "\n",
        "print(f\"${cost_1200sqft:.0f} thousand dollars\")"
      ],
      "id": "WZc4HH02o4-C"
    },
    {
      "cell_type": "markdown",
      "metadata": {
        "id": "4zrUvHt9o4-C"
      },
      "source": [
        "# Congratulations!\n",
        "In this lab you have learned:\n",
        " - Linear regression builds a model which establishes a relationship between features and targets\n",
        "     - In the example above, the feature was house size and the target was house price\n",
        "     - for simple linear regression, the model has two parameters $w$ and $b$ whose values are 'fit' using *training data*.\n",
        "     - once a model's parameters have been determined, the model can be used to make predictions on novel data."
      ],
      "id": "4zrUvHt9o4-C"
    },
    {
      "cell_type": "code",
      "execution_count": null,
      "metadata": {
        "id": "MBm78-YTo4-C"
      },
      "outputs": [],
      "source": [],
      "id": "MBm78-YTo4-C"
    }
  ],
  "metadata": {
    "kernelspec": {
      "display_name": "Python 3",
      "language": "python",
      "name": "python3"
    },
    "language_info": {
      "codemirror_mode": {
        "name": "ipython",
        "version": 3
      },
      "file_extension": ".py",
      "mimetype": "text/x-python",
      "name": "python",
      "nbconvert_exporter": "python",
      "pygments_lexer": "ipython3",
      "version": "3.9.10"
    },
    "toc-autonumbering": false,
    "colab": {
      "provenance": [],
      "include_colab_link": true
    }
  },
  "nbformat": 4,
  "nbformat_minor": 5
}