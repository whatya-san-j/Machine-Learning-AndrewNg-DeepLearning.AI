{
  "cells": [
    {
      "cell_type": "markdown",
      "metadata": {
        "id": "view-in-github",
        "colab_type": "text"
      },
      "source": [
        "<a href=\"https://colab.research.google.com/github/whatya-san-j/Machine-Learning-AndrewNg-DeepLearning.AI/blob/main/1%20Supervised%20Machine%20Learning%20Regression%20and%20Classification/Week%201/Lab%20Files/C1_W1_Lab01_Python_Jupyter_Soln.ipynb\" target=\"_parent\"><img src=\"https://colab.research.google.com/assets/colab-badge.svg\" alt=\"Open In Colab\"/></a>"
      ]
    },
    {
      "cell_type": "markdown",
      "metadata": {
        "id": "T-UK5J0uHlnr"
      },
      "source": [
        "# Optional Lab:  Brief Introduction to Python and Jupyter Notebooks\n",
        "Welcome to the first optional lab!\n",
        "Optional labs are available to:\n",
        "- provide information - like this notebook\n",
        "- reinforce lecture material with hands-on examples\n",
        "- provide working examples of routines used in the graded labs"
      ],
      "id": "T-UK5J0uHlnr"
    },
    {
      "cell_type": "markdown",
      "metadata": {
        "id": "ckFpp5ftHlnt"
      },
      "source": [
        "## Goals\n",
        "In this lab, you will:\n",
        "- Get a brief introduction to Jupyter notebooks\n",
        "- Take a tour of Jupyter notebooks\n",
        "- Learn the difference between markdown cells and code cells\n",
        "- Practice some basic python\n"
      ],
      "id": "ckFpp5ftHlnt"
    },
    {
      "cell_type": "markdown",
      "metadata": {
        "id": "UKOpG5WWHlnt"
      },
      "source": [
        "The easiest way to become familiar with Jupyter notebooks is to take the tour available above in the Help menu:"
      ],
      "id": "UKOpG5WWHlnt"
    },
    {
      "cell_type": "markdown",
      "metadata": {
        "id": "zWIZS-B1Hlnu"
      },
      "source": [
        "<figure>\n",
        "    <center> <img src=\"https://github.com/whatya-san-j/Machine-Learning-AndrewNg-DeepLearning.AI/blob/main/1%20Supervised%20Machine%20Learning%20Regression%20and%20Classification/Week%201/images/C1W1L1_Tour.PNG?raw=1\"  alt='missing' width=\"400\"  ><center/>\n",
        "<figure/>"
      ],
      "id": "zWIZS-B1Hlnu"
    },
    {
      "cell_type": "markdown",
      "metadata": {
        "id": "5gIZj_SFHlnv"
      },
      "source": [
        "Jupyter notebooks have two types of cells that are used in this course. Cells such as this which contain documentation called `Markdown Cells`. The name is derived from the simple formatting language used in the cells. You will not be required to produce markdown cells. Its useful to understand the `cell pulldown` shown in graphic below. Occasionally, a cell will end up in the wrong mode and you may need to restore it to the right state:"
      ],
      "id": "5gIZj_SFHlnv"
    },
    {
      "cell_type": "markdown",
      "metadata": {
        "id": "4a3FJDL_Hlnv"
      },
      "source": [
        "<figure>\n",
        "   <img src=\"https://github.com/whatya-san-j/Machine-Learning-AndrewNg-DeepLearning.AI/blob/main/1%20Supervised%20Machine%20Learning%20Regression%20and%20Classification/Week%201/images/C1W1L1_Markdown.PNG?raw=1\"  alt='missing' width=\"400\"  >\n",
        "<figure/>"
      ],
      "id": "4a3FJDL_Hlnv"
    },
    {
      "cell_type": "markdown",
      "metadata": {
        "id": "uZngYnHQHlnv"
      },
      "source": [
        "The other type of cell is the `code cell` where you will write your code:"
      ],
      "id": "uZngYnHQHlnv"
    },
    {
      "cell_type": "code",
      "execution_count": null,
      "metadata": {
        "id": "S2SpM2gUHlnw",
        "outputId": "cf6171bf-3ced-4dae-e553-80c1903fcec8"
      },
      "outputs": [
        {
          "name": "stdout",
          "output_type": "stream",
          "text": [
            "This is  code cell\n"
          ]
        }
      ],
      "source": [
        "#This is  a 'Code' Cell\n",
        "print(\"This is  code cell\")"
      ],
      "id": "S2SpM2gUHlnw"
    },
    {
      "cell_type": "markdown",
      "metadata": {
        "id": "Gd7oTHl-Hlnx"
      },
      "source": [
        "## Python\n",
        "You can write your code in the code cells.\n",
        "To run the code, select the cell and either\n",
        "- hold the shift-key down and hit 'enter' or 'return'\n",
        "- click the 'run' arrow above\n",
        "<figure>\n",
        "    <img src=\"https://github.com/whatya-san-j/Machine-Learning-AndrewNg-DeepLearning.AI/blob/main/1%20Supervised%20Machine%20Learning%20Regression%20and%20Classification/Week%201/images/C1W1L1_Run.PNG?raw=1\"  width=\"400\"  >\n",
        "<figure/>\n",
        "\n",
        ""
      ],
      "id": "Gd7oTHl-Hlnx"
    },
    {
      "cell_type": "markdown",
      "metadata": {
        "id": "_yvG9FBZHlnx"
      },
      "source": [
        "### Print statement\n",
        "Print statements will generally use the python f-string style.  \n",
        "Try creating your own print in the following cell.  \n",
        "Try both methods of running the cell."
      ],
      "id": "_yvG9FBZHlnx"
    },
    {
      "cell_type": "code",
      "execution_count": null,
      "metadata": {
        "id": "rnfvRnNrHlny",
        "outputId": "e5bdaeba-1c6e-48e2-ac5a-6ea8ed92261d"
      },
      "outputs": [
        {
          "name": "stdout",
          "output_type": "stream",
          "text": [
            "f strings allow you to embed variables right in the strings!\n"
          ]
        }
      ],
      "source": [
        "# print statements\n",
        "variable = \"right in the strings!\"\n",
        "print(f\"f strings allow you to embed variables {variable}\")"
      ],
      "id": "rnfvRnNrHlny"
    },
    {
      "cell_type": "markdown",
      "metadata": {
        "id": "0HgrS4JfHlnz"
      },
      "source": [
        "# Congratulations!\n",
        "You now know how to find your way around a Jupyter Notebook."
      ],
      "id": "0HgrS4JfHlnz"
    }
  ],
  "metadata": {
    "kernelspec": {
      "display_name": "Python 3",
      "language": "python",
      "name": "python3"
    },
    "language_info": {
      "codemirror_mode": {
        "name": "ipython",
        "version": 3
      },
      "file_extension": ".py",
      "mimetype": "text/x-python",
      "name": "python",
      "nbconvert_exporter": "python",
      "pygments_lexer": "ipython3",
      "version": "3.7.6"
    },
    "colab": {
      "provenance": [],
      "include_colab_link": true
    }
  },
  "nbformat": 4,
  "nbformat_minor": 5
}